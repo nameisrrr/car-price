{
 "cells": [
  {
   "cell_type": "code",
   "execution_count": 2,
   "id": "4dc9ed0a-36f3-4193-bd30-ef2713855b64",
   "metadata": {},
   "outputs": [],
   "source": [
    "import pandas as pd\n",
    "from pycaret.regression import *"
   ]
  },
  {
   "cell_type": "code",
   "execution_count": 3,
   "id": "c37929c9-97f6-47dc-8390-a5fb6e3df8b4",
   "metadata": {},
   "outputs": [],
   "source": [
    "df = pd.read_csv(\"cardekho_imputated 2.csv\")"
   ]
  },
  {
   "cell_type": "code",
   "execution_count": 4,
   "id": "810bf797-2570-4bcd-aadb-d8a1c4352a83",
   "metadata": {},
   "outputs": [],
   "source": [
    "def preprocess(df):\n",
    "    df = df.drop(\"Unnamed: 0\",axis=1)\n",
    "    df = df.drop(\"car_name\",axis=1)\n",
    "    df['avg_car_price'] = (df['min_cost_price'] + df['max_cost_price'])/2\n",
    "    df.drop(columns= ['min_cost_price', 'max_cost_price'], inplace = True)\n",
    "    data = df\n",
    "    data = data[data['selling_price'] < 20000000]\n",
    "    data = data[data['km_driven'] < 1000000]\n",
    "    data = data[data['mileage'] < 100]\n",
    "    data = data[data['engine'] < 6100]\n",
    "    data = data[data['max_power'] < 530]\n",
    "    data = data.reset_index(drop=True)\n",
    "    \n",
    "    return data"
   ]
  },
  {
   "cell_type": "code",
   "execution_count": 5,
   "id": "aa610051-a322-4a08-8e37-09a7dca44474",
   "metadata": {},
   "outputs": [],
   "source": [
    "data = preprocess(df)"
   ]
  },
  {
   "cell_type": "code",
   "execution_count": 6,
   "id": "940cb63c-3a49-4bb9-9a65-ca9821b69a96",
   "metadata": {},
   "outputs": [],
   "source": [
    "def run():\n",
    "    cat_f = ['brand', 'model', 'seller_type', 'fuel_type', 'transmission_type']\n",
    "    exp_reg101 = setup(data = data, target = 'selling_price', categorical_features = cat_f,\n",
    "                   ignore_features= [],\n",
    "                   normalize = True,session_id = 123)\n",
    "    best = compare_models(exclude = ['ransac'])\n",
    "    gbr = create_model('gbr')\n",
    "    \n",
    "    return gbr"
   ]
  },
  {
   "cell_type": "code",
   "execution_count": 7,
   "id": "318aed33-6083-4a15-a981-69da457049c5",
   "metadata": {},
   "outputs": [
    {
     "data": {
      "text/html": [
       "<style type=\"text/css\">\n",
       "#T_172e1_row9_col1, #T_172e1_row16_col1 {\n",
       "  background-color: lightgreen;\n",
       "}\n",
       "</style>\n",
       "<table id=\"T_172e1\">\n",
       "  <thead>\n",
       "    <tr>\n",
       "      <th class=\"blank level0\" >&nbsp;</th>\n",
       "      <th id=\"T_172e1_level0_col0\" class=\"col_heading level0 col0\" >Description</th>\n",
       "      <th id=\"T_172e1_level0_col1\" class=\"col_heading level0 col1\" >Value</th>\n",
       "    </tr>\n",
       "  </thead>\n",
       "  <tbody>\n",
       "    <tr>\n",
       "      <th id=\"T_172e1_level0_row0\" class=\"row_heading level0 row0\" >0</th>\n",
       "      <td id=\"T_172e1_row0_col0\" class=\"data row0 col0\" >Session id</td>\n",
       "      <td id=\"T_172e1_row0_col1\" class=\"data row0 col1\" >123</td>\n",
       "    </tr>\n",
       "    <tr>\n",
       "      <th id=\"T_172e1_level0_row1\" class=\"row_heading level0 row1\" >1</th>\n",
       "      <td id=\"T_172e1_row1_col0\" class=\"data row1 col0\" >Target</td>\n",
       "      <td id=\"T_172e1_row1_col1\" class=\"data row1 col1\" >selling_price</td>\n",
       "    </tr>\n",
       "    <tr>\n",
       "      <th id=\"T_172e1_level0_row2\" class=\"row_heading level0 row2\" >2</th>\n",
       "      <td id=\"T_172e1_row2_col0\" class=\"data row2 col0\" >Target type</td>\n",
       "      <td id=\"T_172e1_row2_col1\" class=\"data row2 col1\" >Regression</td>\n",
       "    </tr>\n",
       "    <tr>\n",
       "      <th id=\"T_172e1_level0_row3\" class=\"row_heading level0 row3\" >3</th>\n",
       "      <td id=\"T_172e1_row3_col0\" class=\"data row3 col0\" >Data shape</td>\n",
       "      <td id=\"T_172e1_row3_col1\" class=\"data row3 col1\" >(15404, 19)</td>\n",
       "    </tr>\n",
       "    <tr>\n",
       "      <th id=\"T_172e1_level0_row4\" class=\"row_heading level0 row4\" >4</th>\n",
       "      <td id=\"T_172e1_row4_col0\" class=\"data row4 col0\" >Train data shape</td>\n",
       "      <td id=\"T_172e1_row4_col1\" class=\"data row4 col1\" >(10782, 19)</td>\n",
       "    </tr>\n",
       "    <tr>\n",
       "      <th id=\"T_172e1_level0_row5\" class=\"row_heading level0 row5\" >5</th>\n",
       "      <td id=\"T_172e1_row5_col0\" class=\"data row5 col0\" >Test data shape</td>\n",
       "      <td id=\"T_172e1_row5_col1\" class=\"data row5 col1\" >(4622, 19)</td>\n",
       "    </tr>\n",
       "    <tr>\n",
       "      <th id=\"T_172e1_level0_row6\" class=\"row_heading level0 row6\" >6</th>\n",
       "      <td id=\"T_172e1_row6_col0\" class=\"data row6 col0\" >Ordinal features</td>\n",
       "      <td id=\"T_172e1_row6_col1\" class=\"data row6 col1\" >1</td>\n",
       "    </tr>\n",
       "    <tr>\n",
       "      <th id=\"T_172e1_level0_row7\" class=\"row_heading level0 row7\" >7</th>\n",
       "      <td id=\"T_172e1_row7_col0\" class=\"data row7 col0\" >Numeric features</td>\n",
       "      <td id=\"T_172e1_row7_col1\" class=\"data row7 col1\" >7</td>\n",
       "    </tr>\n",
       "    <tr>\n",
       "      <th id=\"T_172e1_level0_row8\" class=\"row_heading level0 row8\" >8</th>\n",
       "      <td id=\"T_172e1_row8_col0\" class=\"data row8 col0\" >Categorical features</td>\n",
       "      <td id=\"T_172e1_row8_col1\" class=\"data row8 col1\" >5</td>\n",
       "    </tr>\n",
       "    <tr>\n",
       "      <th id=\"T_172e1_level0_row9\" class=\"row_heading level0 row9\" >9</th>\n",
       "      <td id=\"T_172e1_row9_col0\" class=\"data row9 col0\" >Preprocess</td>\n",
       "      <td id=\"T_172e1_row9_col1\" class=\"data row9 col1\" >True</td>\n",
       "    </tr>\n",
       "    <tr>\n",
       "      <th id=\"T_172e1_level0_row10\" class=\"row_heading level0 row10\" >10</th>\n",
       "      <td id=\"T_172e1_row10_col0\" class=\"data row10 col0\" >Imputation type</td>\n",
       "      <td id=\"T_172e1_row10_col1\" class=\"data row10 col1\" >simple</td>\n",
       "    </tr>\n",
       "    <tr>\n",
       "      <th id=\"T_172e1_level0_row11\" class=\"row_heading level0 row11\" >11</th>\n",
       "      <td id=\"T_172e1_row11_col0\" class=\"data row11 col0\" >Numeric imputation</td>\n",
       "      <td id=\"T_172e1_row11_col1\" class=\"data row11 col1\" >mean</td>\n",
       "    </tr>\n",
       "    <tr>\n",
       "      <th id=\"T_172e1_level0_row12\" class=\"row_heading level0 row12\" >12</th>\n",
       "      <td id=\"T_172e1_row12_col0\" class=\"data row12 col0\" >Categorical imputation</td>\n",
       "      <td id=\"T_172e1_row12_col1\" class=\"data row12 col1\" >constant</td>\n",
       "    </tr>\n",
       "    <tr>\n",
       "      <th id=\"T_172e1_level0_row13\" class=\"row_heading level0 row13\" >13</th>\n",
       "      <td id=\"T_172e1_row13_col0\" class=\"data row13 col0\" >Maximum one-hot encoding</td>\n",
       "      <td id=\"T_172e1_row13_col1\" class=\"data row13 col1\" >5</td>\n",
       "    </tr>\n",
       "    <tr>\n",
       "      <th id=\"T_172e1_level0_row14\" class=\"row_heading level0 row14\" >14</th>\n",
       "      <td id=\"T_172e1_row14_col0\" class=\"data row14 col0\" >Encoding method</td>\n",
       "      <td id=\"T_172e1_row14_col1\" class=\"data row14 col1\" >None</td>\n",
       "    </tr>\n",
       "    <tr>\n",
       "      <th id=\"T_172e1_level0_row15\" class=\"row_heading level0 row15\" >15</th>\n",
       "      <td id=\"T_172e1_row15_col0\" class=\"data row15 col0\" >Low variance threshold</td>\n",
       "      <td id=\"T_172e1_row15_col1\" class=\"data row15 col1\" >0</td>\n",
       "    </tr>\n",
       "    <tr>\n",
       "      <th id=\"T_172e1_level0_row16\" class=\"row_heading level0 row16\" >16</th>\n",
       "      <td id=\"T_172e1_row16_col0\" class=\"data row16 col0\" >Normalize</td>\n",
       "      <td id=\"T_172e1_row16_col1\" class=\"data row16 col1\" >True</td>\n",
       "    </tr>\n",
       "    <tr>\n",
       "      <th id=\"T_172e1_level0_row17\" class=\"row_heading level0 row17\" >17</th>\n",
       "      <td id=\"T_172e1_row17_col0\" class=\"data row17 col0\" >Normalize method</td>\n",
       "      <td id=\"T_172e1_row17_col1\" class=\"data row17 col1\" >zscore</td>\n",
       "    </tr>\n",
       "    <tr>\n",
       "      <th id=\"T_172e1_level0_row18\" class=\"row_heading level0 row18\" >18</th>\n",
       "      <td id=\"T_172e1_row18_col0\" class=\"data row18 col0\" >Fold Generator</td>\n",
       "      <td id=\"T_172e1_row18_col1\" class=\"data row18 col1\" >KFold</td>\n",
       "    </tr>\n",
       "    <tr>\n",
       "      <th id=\"T_172e1_level0_row19\" class=\"row_heading level0 row19\" >19</th>\n",
       "      <td id=\"T_172e1_row19_col0\" class=\"data row19 col0\" >Fold Number</td>\n",
       "      <td id=\"T_172e1_row19_col1\" class=\"data row19 col1\" >10</td>\n",
       "    </tr>\n",
       "    <tr>\n",
       "      <th id=\"T_172e1_level0_row20\" class=\"row_heading level0 row20\" >20</th>\n",
       "      <td id=\"T_172e1_row20_col0\" class=\"data row20 col0\" >CPU Jobs</td>\n",
       "      <td id=\"T_172e1_row20_col1\" class=\"data row20 col1\" >-1</td>\n",
       "    </tr>\n",
       "    <tr>\n",
       "      <th id=\"T_172e1_level0_row21\" class=\"row_heading level0 row21\" >21</th>\n",
       "      <td id=\"T_172e1_row21_col0\" class=\"data row21 col0\" >Use GPU</td>\n",
       "      <td id=\"T_172e1_row21_col1\" class=\"data row21 col1\" >False</td>\n",
       "    </tr>\n",
       "    <tr>\n",
       "      <th id=\"T_172e1_level0_row22\" class=\"row_heading level0 row22\" >22</th>\n",
       "      <td id=\"T_172e1_row22_col0\" class=\"data row22 col0\" >Log Experiment</td>\n",
       "      <td id=\"T_172e1_row22_col1\" class=\"data row22 col1\" >False</td>\n",
       "    </tr>\n",
       "    <tr>\n",
       "      <th id=\"T_172e1_level0_row23\" class=\"row_heading level0 row23\" >23</th>\n",
       "      <td id=\"T_172e1_row23_col0\" class=\"data row23 col0\" >Experiment Name</td>\n",
       "      <td id=\"T_172e1_row23_col1\" class=\"data row23 col1\" >reg-default-name</td>\n",
       "    </tr>\n",
       "    <tr>\n",
       "      <th id=\"T_172e1_level0_row24\" class=\"row_heading level0 row24\" >24</th>\n",
       "      <td id=\"T_172e1_row24_col0\" class=\"data row24 col0\" >USI</td>\n",
       "      <td id=\"T_172e1_row24_col1\" class=\"data row24 col1\" >0c17</td>\n",
       "    </tr>\n",
       "  </tbody>\n",
       "</table>\n"
      ],
      "text/plain": [
       "<pandas.io.formats.style.Styler at 0x265c7c20b50>"
      ]
     },
     "metadata": {},
     "output_type": "display_data"
    },
    {
     "data": {
      "text/html": [],
      "text/plain": [
       "<IPython.core.display.HTML object>"
      ]
     },
     "metadata": {},
     "output_type": "display_data"
    },
    {
     "data": {
      "text/html": [
       "<style type=\"text/css\">\n",
       "#T_a0183 th {\n",
       "  text-align: left;\n",
       "}\n",
       "#T_a0183_row0_col0, #T_a0183_row0_col1, #T_a0183_row1_col0, #T_a0183_row1_col2, #T_a0183_row1_col3, #T_a0183_row1_col4, #T_a0183_row1_col5, #T_a0183_row1_col6, #T_a0183_row2_col0, #T_a0183_row2_col1, #T_a0183_row2_col2, #T_a0183_row2_col3, #T_a0183_row2_col4, #T_a0183_row2_col5, #T_a0183_row2_col6, #T_a0183_row3_col0, #T_a0183_row3_col1, #T_a0183_row3_col2, #T_a0183_row3_col3, #T_a0183_row3_col4, #T_a0183_row3_col5, #T_a0183_row3_col6, #T_a0183_row4_col0, #T_a0183_row4_col1, #T_a0183_row4_col2, #T_a0183_row4_col3, #T_a0183_row4_col4, #T_a0183_row4_col5, #T_a0183_row4_col6, #T_a0183_row5_col0, #T_a0183_row5_col1, #T_a0183_row5_col2, #T_a0183_row5_col3, #T_a0183_row5_col4, #T_a0183_row5_col5, #T_a0183_row5_col6, #T_a0183_row6_col0, #T_a0183_row6_col1, #T_a0183_row6_col2, #T_a0183_row6_col3, #T_a0183_row6_col4, #T_a0183_row6_col5, #T_a0183_row6_col6, #T_a0183_row7_col0, #T_a0183_row7_col1, #T_a0183_row7_col2, #T_a0183_row7_col3, #T_a0183_row7_col4, #T_a0183_row7_col5, #T_a0183_row7_col6, #T_a0183_row8_col0, #T_a0183_row8_col1, #T_a0183_row8_col2, #T_a0183_row8_col3, #T_a0183_row8_col4, #T_a0183_row8_col5, #T_a0183_row8_col6, #T_a0183_row9_col0, #T_a0183_row9_col1, #T_a0183_row9_col2, #T_a0183_row9_col3, #T_a0183_row9_col4, #T_a0183_row9_col5, #T_a0183_row9_col6, #T_a0183_row10_col0, #T_a0183_row10_col1, #T_a0183_row10_col2, #T_a0183_row10_col3, #T_a0183_row10_col4, #T_a0183_row10_col5, #T_a0183_row10_col6, #T_a0183_row11_col0, #T_a0183_row11_col1, #T_a0183_row11_col2, #T_a0183_row11_col3, #T_a0183_row11_col4, #T_a0183_row11_col5, #T_a0183_row11_col6, #T_a0183_row12_col0, #T_a0183_row12_col1, #T_a0183_row12_col2, #T_a0183_row12_col3, #T_a0183_row12_col4, #T_a0183_row12_col5, #T_a0183_row12_col6, #T_a0183_row13_col0, #T_a0183_row13_col1, #T_a0183_row13_col2, #T_a0183_row13_col3, #T_a0183_row13_col4, #T_a0183_row13_col5, #T_a0183_row13_col6, #T_a0183_row14_col0, #T_a0183_row14_col1, #T_a0183_row14_col2, #T_a0183_row14_col3, #T_a0183_row14_col4, #T_a0183_row14_col5, #T_a0183_row14_col6, #T_a0183_row15_col0, #T_a0183_row15_col1, #T_a0183_row15_col2, #T_a0183_row15_col3, #T_a0183_row15_col4, #T_a0183_row15_col5, #T_a0183_row15_col6, #T_a0183_row16_col0, #T_a0183_row16_col1, #T_a0183_row16_col2, #T_a0183_row16_col3, #T_a0183_row16_col4, #T_a0183_row16_col5, #T_a0183_row16_col6, #T_a0183_row17_col0, #T_a0183_row17_col1, #T_a0183_row17_col2, #T_a0183_row17_col3, #T_a0183_row17_col4, #T_a0183_row17_col5, #T_a0183_row17_col6, #T_a0183_row18_col0, #T_a0183_row18_col1, #T_a0183_row18_col2, #T_a0183_row18_col3, #T_a0183_row18_col4, #T_a0183_row18_col5, #T_a0183_row18_col6 {\n",
       "  text-align: left;\n",
       "}\n",
       "#T_a0183_row0_col2, #T_a0183_row0_col3, #T_a0183_row0_col4, #T_a0183_row0_col5, #T_a0183_row0_col6, #T_a0183_row1_col1 {\n",
       "  text-align: left;\n",
       "  background-color: yellow;\n",
       "}\n",
       "#T_a0183_row0_col7, #T_a0183_row1_col7, #T_a0183_row2_col7, #T_a0183_row3_col7, #T_a0183_row4_col7, #T_a0183_row5_col7, #T_a0183_row6_col7, #T_a0183_row7_col7, #T_a0183_row8_col7, #T_a0183_row9_col7, #T_a0183_row10_col7, #T_a0183_row11_col7, #T_a0183_row12_col7, #T_a0183_row13_col7, #T_a0183_row14_col7, #T_a0183_row15_col7, #T_a0183_row16_col7, #T_a0183_row18_col7 {\n",
       "  text-align: left;\n",
       "  background-color: lightgrey;\n",
       "}\n",
       "#T_a0183_row17_col7 {\n",
       "  text-align: left;\n",
       "  background-color: yellow;\n",
       "  background-color: lightgrey;\n",
       "}\n",
       "</style>\n",
       "<table id=\"T_a0183\">\n",
       "  <thead>\n",
       "    <tr>\n",
       "      <th class=\"blank level0\" >&nbsp;</th>\n",
       "      <th id=\"T_a0183_level0_col0\" class=\"col_heading level0 col0\" >Model</th>\n",
       "      <th id=\"T_a0183_level0_col1\" class=\"col_heading level0 col1\" >MAE</th>\n",
       "      <th id=\"T_a0183_level0_col2\" class=\"col_heading level0 col2\" >MSE</th>\n",
       "      <th id=\"T_a0183_level0_col3\" class=\"col_heading level0 col3\" >RMSE</th>\n",
       "      <th id=\"T_a0183_level0_col4\" class=\"col_heading level0 col4\" >R2</th>\n",
       "      <th id=\"T_a0183_level0_col5\" class=\"col_heading level0 col5\" >RMSLE</th>\n",
       "      <th id=\"T_a0183_level0_col6\" class=\"col_heading level0 col6\" >MAPE</th>\n",
       "      <th id=\"T_a0183_level0_col7\" class=\"col_heading level0 col7\" >TT (Sec)</th>\n",
       "    </tr>\n",
       "  </thead>\n",
       "  <tbody>\n",
       "    <tr>\n",
       "      <th id=\"T_a0183_level0_row0\" class=\"row_heading level0 row0\" >gbr</th>\n",
       "      <td id=\"T_a0183_row0_col0\" class=\"data row0 col0\" >Gradient Boosting Regressor</td>\n",
       "      <td id=\"T_a0183_row0_col1\" class=\"data row0 col1\" >102676.1708</td>\n",
       "      <td id=\"T_a0183_row0_col2\" class=\"data row0 col2\" >41247002278.7694</td>\n",
       "      <td id=\"T_a0183_row0_col3\" class=\"data row0 col3\" >199759.4139</td>\n",
       "      <td id=\"T_a0183_row0_col4\" class=\"data row0 col4\" >0.9384</td>\n",
       "      <td id=\"T_a0183_row0_col5\" class=\"data row0 col5\" >0.1890</td>\n",
       "      <td id=\"T_a0183_row0_col6\" class=\"data row0 col6\" >0.1482</td>\n",
       "      <td id=\"T_a0183_row0_col7\" class=\"data row0 col7\" >0.6010</td>\n",
       "    </tr>\n",
       "    <tr>\n",
       "      <th id=\"T_a0183_level0_row1\" class=\"row_heading level0 row1\" >lightgbm</th>\n",
       "      <td id=\"T_a0183_row1_col0\" class=\"data row1 col0\" >Light Gradient Boosting Machine</td>\n",
       "      <td id=\"T_a0183_row1_col1\" class=\"data row1 col1\" >102631.3553</td>\n",
       "      <td id=\"T_a0183_row1_col2\" class=\"data row1 col2\" >41677521903.3442</td>\n",
       "      <td id=\"T_a0183_row1_col3\" class=\"data row1 col3\" >201147.9439</td>\n",
       "      <td id=\"T_a0183_row1_col4\" class=\"data row1 col4\" >0.9382</td>\n",
       "      <td id=\"T_a0183_row1_col5\" class=\"data row1 col5\" >0.1972</td>\n",
       "      <td id=\"T_a0183_row1_col6\" class=\"data row1 col6\" >0.1564</td>\n",
       "      <td id=\"T_a0183_row1_col7\" class=\"data row1 col7\" >0.4530</td>\n",
       "    </tr>\n",
       "    <tr>\n",
       "      <th id=\"T_a0183_level0_row2\" class=\"row_heading level0 row2\" >et</th>\n",
       "      <td id=\"T_a0183_row2_col0\" class=\"data row2 col0\" >Extra Trees Regressor</td>\n",
       "      <td id=\"T_a0183_row2_col1\" class=\"data row2 col1\" >119481.9961</td>\n",
       "      <td id=\"T_a0183_row2_col2\" class=\"data row2 col2\" >48286260581.9908</td>\n",
       "      <td id=\"T_a0183_row2_col3\" class=\"data row2 col3\" >217140.4661</td>\n",
       "      <td id=\"T_a0183_row2_col4\" class=\"data row2 col4\" >0.9278</td>\n",
       "      <td id=\"T_a0183_row2_col5\" class=\"data row2 col5\" >0.2332</td>\n",
       "      <td id=\"T_a0183_row2_col6\" class=\"data row2 col6\" >0.1905</td>\n",
       "      <td id=\"T_a0183_row2_col7\" class=\"data row2 col7\" >0.9470</td>\n",
       "    </tr>\n",
       "    <tr>\n",
       "      <th id=\"T_a0183_level0_row3\" class=\"row_heading level0 row3\" >rf</th>\n",
       "      <td id=\"T_a0183_row3_col0\" class=\"data row3 col0\" >Random Forest Regressor</td>\n",
       "      <td id=\"T_a0183_row3_col1\" class=\"data row3 col1\" >140394.1988</td>\n",
       "      <td id=\"T_a0183_row3_col2\" class=\"data row3 col2\" >58219601420.2134</td>\n",
       "      <td id=\"T_a0183_row3_col3\" class=\"data row3 col3\" >239793.5621</td>\n",
       "      <td id=\"T_a0183_row3_col4\" class=\"data row3 col4\" >0.9118</td>\n",
       "      <td id=\"T_a0183_row3_col5\" class=\"data row3 col5\" >0.2701</td>\n",
       "      <td id=\"T_a0183_row3_col6\" class=\"data row3 col6\" >0.2298</td>\n",
       "      <td id=\"T_a0183_row3_col7\" class=\"data row3 col7\" >1.2690</td>\n",
       "    </tr>\n",
       "    <tr>\n",
       "      <th id=\"T_a0183_level0_row4\" class=\"row_heading level0 row4\" >xgboost</th>\n",
       "      <td id=\"T_a0183_row4_col0\" class=\"data row4 col0\" >Extreme Gradient Boosting</td>\n",
       "      <td id=\"T_a0183_row4_col1\" class=\"data row4 col1\" >143025.4314</td>\n",
       "      <td id=\"T_a0183_row4_col2\" class=\"data row4 col2\" >59280192608.7830</td>\n",
       "      <td id=\"T_a0183_row4_col3\" class=\"data row4 col3\" >241523.8046</td>\n",
       "      <td id=\"T_a0183_row4_col4\" class=\"data row4 col4\" >0.9102</td>\n",
       "      <td id=\"T_a0183_row4_col5\" class=\"data row4 col5\" >0.3133</td>\n",
       "      <td id=\"T_a0183_row4_col6\" class=\"data row4 col6\" >0.2703</td>\n",
       "      <td id=\"T_a0183_row4_col7\" class=\"data row4 col7\" >0.6420</td>\n",
       "    </tr>\n",
       "    <tr>\n",
       "      <th id=\"T_a0183_level0_row5\" class=\"row_heading level0 row5\" >knn</th>\n",
       "      <td id=\"T_a0183_row5_col0\" class=\"data row5 col0\" >K Neighbors Regressor</td>\n",
       "      <td id=\"T_a0183_row5_col1\" class=\"data row5 col1\" >115505.9261</td>\n",
       "      <td id=\"T_a0183_row5_col2\" class=\"data row5 col2\" >76591466428.9274</td>\n",
       "      <td id=\"T_a0183_row5_col3\" class=\"data row5 col3\" >269645.2025</td>\n",
       "      <td id=\"T_a0183_row5_col4\" class=\"data row5 col4\" >0.8875</td>\n",
       "      <td id=\"T_a0183_row5_col5\" class=\"data row5 col5\" >0.1993</td>\n",
       "      <td id=\"T_a0183_row5_col6\" class=\"data row5 col6\" >0.1547</td>\n",
       "      <td id=\"T_a0183_row5_col7\" class=\"data row5 col7\" >0.1910</td>\n",
       "    </tr>\n",
       "    <tr>\n",
       "      <th id=\"T_a0183_level0_row6\" class=\"row_heading level0 row6\" >dt</th>\n",
       "      <td id=\"T_a0183_row6_col0\" class=\"data row6 col0\" >Decision Tree Regressor</td>\n",
       "      <td id=\"T_a0183_row6_col1\" class=\"data row6 col1\" >168857.5296</td>\n",
       "      <td id=\"T_a0183_row6_col2\" class=\"data row6 col2\" >102369322144.8947</td>\n",
       "      <td id=\"T_a0183_row6_col3\" class=\"data row6 col3\" >316699.2860</td>\n",
       "      <td id=\"T_a0183_row6_col4\" class=\"data row6 col4\" >0.8456</td>\n",
       "      <td id=\"T_a0183_row6_col5\" class=\"data row6 col5\" >0.3072</td>\n",
       "      <td id=\"T_a0183_row6_col6\" class=\"data row6 col6\" >0.2600</td>\n",
       "      <td id=\"T_a0183_row6_col7\" class=\"data row6 col7\" >0.1830</td>\n",
       "    </tr>\n",
       "    <tr>\n",
       "      <th id=\"T_a0183_level0_row7\" class=\"row_heading level0 row7\" >ada</th>\n",
       "      <td id=\"T_a0183_row7_col0\" class=\"data row7 col0\" >AdaBoost Regressor</td>\n",
       "      <td id=\"T_a0183_row7_col1\" class=\"data row7 col1\" >283580.2043</td>\n",
       "      <td id=\"T_a0183_row7_col2\" class=\"data row7 col2\" >136019433480.2932</td>\n",
       "      <td id=\"T_a0183_row7_col3\" class=\"data row7 col3\" >368110.5174</td>\n",
       "      <td id=\"T_a0183_row7_col4\" class=\"data row7 col4\" >0.7911</td>\n",
       "      <td id=\"T_a0183_row7_col5\" class=\"data row7 col5\" >0.5842</td>\n",
       "      <td id=\"T_a0183_row7_col6\" class=\"data row7 col6\" >0.6955</td>\n",
       "      <td id=\"T_a0183_row7_col7\" class=\"data row7 col7\" >0.3740</td>\n",
       "    </tr>\n",
       "    <tr>\n",
       "      <th id=\"T_a0183_level0_row8\" class=\"row_heading level0 row8\" >br</th>\n",
       "      <td id=\"T_a0183_row8_col0\" class=\"data row8 col0\" >Bayesian Ridge</td>\n",
       "      <td id=\"T_a0183_row8_col1\" class=\"data row8 col1\" >195159.2794</td>\n",
       "      <td id=\"T_a0183_row8_col2\" class=\"data row8 col2\" >163584974155.6649</td>\n",
       "      <td id=\"T_a0183_row8_col3\" class=\"data row8 col3\" >399977.5924</td>\n",
       "      <td id=\"T_a0183_row8_col4\" class=\"data row8 col4\" >0.7555</td>\n",
       "      <td id=\"T_a0183_row8_col5\" class=\"data row8 col5\" >0.5758</td>\n",
       "      <td id=\"T_a0183_row8_col6\" class=\"data row8 col6\" >0.3556</td>\n",
       "      <td id=\"T_a0183_row8_col7\" class=\"data row8 col7\" >0.1550</td>\n",
       "    </tr>\n",
       "    <tr>\n",
       "      <th id=\"T_a0183_level0_row9\" class=\"row_heading level0 row9\" >lar</th>\n",
       "      <td id=\"T_a0183_row9_col0\" class=\"data row9 col0\" >Least Angle Regression</td>\n",
       "      <td id=\"T_a0183_row9_col1\" class=\"data row9 col1\" >195202.2707</td>\n",
       "      <td id=\"T_a0183_row9_col2\" class=\"data row9 col2\" >163603808215.4903</td>\n",
       "      <td id=\"T_a0183_row9_col3\" class=\"data row9 col3\" >399998.6733</td>\n",
       "      <td id=\"T_a0183_row9_col4\" class=\"data row9 col4\" >0.7555</td>\n",
       "      <td id=\"T_a0183_row9_col5\" class=\"data row9 col5\" >0.5838</td>\n",
       "      <td id=\"T_a0183_row9_col6\" class=\"data row9 col6\" >0.3558</td>\n",
       "      <td id=\"T_a0183_row9_col7\" class=\"data row9 col7\" >0.1650</td>\n",
       "    </tr>\n",
       "    <tr>\n",
       "      <th id=\"T_a0183_level0_row10\" class=\"row_heading level0 row10\" >ridge</th>\n",
       "      <td id=\"T_a0183_row10_col0\" class=\"data row10 col0\" >Ridge Regression</td>\n",
       "      <td id=\"T_a0183_row10_col1\" class=\"data row10 col1\" >195197.9943</td>\n",
       "      <td id=\"T_a0183_row10_col2\" class=\"data row10 col2\" >163601822652.6688</td>\n",
       "      <td id=\"T_a0183_row10_col3\" class=\"data row10 col3\" >399996.4408</td>\n",
       "      <td id=\"T_a0183_row10_col4\" class=\"data row10 col4\" >0.7555</td>\n",
       "      <td id=\"T_a0183_row10_col5\" class=\"data row10 col5\" >0.5805</td>\n",
       "      <td id=\"T_a0183_row10_col6\" class=\"data row10 col6\" >0.3558</td>\n",
       "      <td id=\"T_a0183_row10_col7\" class=\"data row10 col7\" >0.1530</td>\n",
       "    </tr>\n",
       "    <tr>\n",
       "      <th id=\"T_a0183_level0_row11\" class=\"row_heading level0 row11\" >lasso</th>\n",
       "      <td id=\"T_a0183_row11_col0\" class=\"data row11 col0\" >Lasso Regression</td>\n",
       "      <td id=\"T_a0183_row11_col1\" class=\"data row11 col1\" >195201.4837</td>\n",
       "      <td id=\"T_a0183_row11_col2\" class=\"data row11 col2\" >163603764266.0452</td>\n",
       "      <td id=\"T_a0183_row11_col3\" class=\"data row11 col3\" >399998.5945</td>\n",
       "      <td id=\"T_a0183_row11_col4\" class=\"data row11 col4\" >0.7555</td>\n",
       "      <td id=\"T_a0183_row11_col5\" class=\"data row11 col5\" >0.5845</td>\n",
       "      <td id=\"T_a0183_row11_col6\" class=\"data row11 col6\" >0.3558</td>\n",
       "      <td id=\"T_a0183_row11_col7\" class=\"data row11 col7\" >0.1540</td>\n",
       "    </tr>\n",
       "    <tr>\n",
       "      <th id=\"T_a0183_level0_row12\" class=\"row_heading level0 row12\" >llar</th>\n",
       "      <td id=\"T_a0183_row12_col0\" class=\"data row12 col0\" >Lasso Least Angle Regression</td>\n",
       "      <td id=\"T_a0183_row12_col1\" class=\"data row12 col1\" >195145.3294</td>\n",
       "      <td id=\"T_a0183_row12_col2\" class=\"data row12 col2\" >163598178318.0200</td>\n",
       "      <td id=\"T_a0183_row12_col3\" class=\"data row12 col3\" >399990.3488</td>\n",
       "      <td id=\"T_a0183_row12_col4\" class=\"data row12 col4\" >0.7555</td>\n",
       "      <td id=\"T_a0183_row12_col5\" class=\"data row12 col5\" >0.5822</td>\n",
       "      <td id=\"T_a0183_row12_col6\" class=\"data row12 col6\" >0.3556</td>\n",
       "      <td id=\"T_a0183_row12_col7\" class=\"data row12 col7\" >0.1550</td>\n",
       "    </tr>\n",
       "    <tr>\n",
       "      <th id=\"T_a0183_level0_row13\" class=\"row_heading level0 row13\" >lr</th>\n",
       "      <td id=\"T_a0183_row13_col0\" class=\"data row13 col0\" >Linear Regression</td>\n",
       "      <td id=\"T_a0183_row13_col1\" class=\"data row13 col1\" >195260.6900</td>\n",
       "      <td id=\"T_a0183_row13_col2\" class=\"data row13 col2\" >163592264298.0251</td>\n",
       "      <td id=\"T_a0183_row13_col3\" class=\"data row13 col3\" >399983.4484</td>\n",
       "      <td id=\"T_a0183_row13_col4\" class=\"data row13 col4\" >0.7555</td>\n",
       "      <td id=\"T_a0183_row13_col5\" class=\"data row13 col5\" >0.5846</td>\n",
       "      <td id=\"T_a0183_row13_col6\" class=\"data row13 col6\" >0.3562</td>\n",
       "      <td id=\"T_a0183_row13_col7\" class=\"data row13 col7\" >0.9790</td>\n",
       "    </tr>\n",
       "    <tr>\n",
       "      <th id=\"T_a0183_level0_row14\" class=\"row_heading level0 row14\" >en</th>\n",
       "      <td id=\"T_a0183_row14_col0\" class=\"data row14 col0\" >Elastic Net</td>\n",
       "      <td id=\"T_a0183_row14_col1\" class=\"data row14 col1\" >188970.3896</td>\n",
       "      <td id=\"T_a0183_row14_col2\" class=\"data row14 col2\" >180466687949.8968</td>\n",
       "      <td id=\"T_a0183_row14_col3\" class=\"data row14 col3\" >420572.1309</td>\n",
       "      <td id=\"T_a0183_row14_col4\" class=\"data row14 col4\" >0.7302</td>\n",
       "      <td id=\"T_a0183_row14_col5\" class=\"data row14 col5\" >0.4459</td>\n",
       "      <td id=\"T_a0183_row14_col6\" class=\"data row14 col6\" >0.2898</td>\n",
       "      <td id=\"T_a0183_row14_col7\" class=\"data row14 col7\" >0.1630</td>\n",
       "    </tr>\n",
       "    <tr>\n",
       "      <th id=\"T_a0183_level0_row15\" class=\"row_heading level0 row15\" >huber</th>\n",
       "      <td id=\"T_a0183_row15_col0\" class=\"data row15 col0\" >Huber Regressor</td>\n",
       "      <td id=\"T_a0183_row15_col1\" class=\"data row15 col1\" >173970.1033</td>\n",
       "      <td id=\"T_a0183_row15_col2\" class=\"data row15 col2\" >187937174844.2213</td>\n",
       "      <td id=\"T_a0183_row15_col3\" class=\"data row15 col3\" >427853.3582</td>\n",
       "      <td id=\"T_a0183_row15_col4\" class=\"data row15 col4\" >0.7206</td>\n",
       "      <td id=\"T_a0183_row15_col5\" class=\"data row15 col5\" >0.4348</td>\n",
       "      <td id=\"T_a0183_row15_col6\" class=\"data row15 col6\" >0.2405</td>\n",
       "      <td id=\"T_a0183_row15_col7\" class=\"data row15 col7\" >0.1730</td>\n",
       "    </tr>\n",
       "    <tr>\n",
       "      <th id=\"T_a0183_level0_row16\" class=\"row_heading level0 row16\" >par</th>\n",
       "      <td id=\"T_a0183_row16_col0\" class=\"data row16 col0\" >Passive Aggressive Regressor</td>\n",
       "      <td id=\"T_a0183_row16_col1\" class=\"data row16 col1\" >174157.7859</td>\n",
       "      <td id=\"T_a0183_row16_col2\" class=\"data row16 col2\" >189287254458.2547</td>\n",
       "      <td id=\"T_a0183_row16_col3\" class=\"data row16 col3\" >429543.5759</td>\n",
       "      <td id=\"T_a0183_row16_col4\" class=\"data row16 col4\" >0.7185</td>\n",
       "      <td id=\"T_a0183_row16_col5\" class=\"data row16 col5\" >0.3987</td>\n",
       "      <td id=\"T_a0183_row16_col6\" class=\"data row16 col6\" >0.2368</td>\n",
       "      <td id=\"T_a0183_row16_col7\" class=\"data row16 col7\" >0.4720</td>\n",
       "    </tr>\n",
       "    <tr>\n",
       "      <th id=\"T_a0183_level0_row17\" class=\"row_heading level0 row17\" >omp</th>\n",
       "      <td id=\"T_a0183_row17_col0\" class=\"data row17 col0\" >Orthogonal Matching Pursuit</td>\n",
       "      <td id=\"T_a0183_row17_col1\" class=\"data row17 col1\" >223899.4777</td>\n",
       "      <td id=\"T_a0183_row17_col2\" class=\"data row17 col2\" >229664302804.3744</td>\n",
       "      <td id=\"T_a0183_row17_col3\" class=\"data row17 col3\" >474770.1559</td>\n",
       "      <td id=\"T_a0183_row17_col4\" class=\"data row17 col4\" >0.6557</td>\n",
       "      <td id=\"T_a0183_row17_col5\" class=\"data row17 col5\" >0.3844</td>\n",
       "      <td id=\"T_a0183_row17_col6\" class=\"data row17 col6\" >0.3346</td>\n",
       "      <td id=\"T_a0183_row17_col7\" class=\"data row17 col7\" >0.1500</td>\n",
       "    </tr>\n",
       "    <tr>\n",
       "      <th id=\"T_a0183_level0_row18\" class=\"row_heading level0 row18\" >dummy</th>\n",
       "      <td id=\"T_a0183_row18_col0\" class=\"data row18 col0\" >Dummy Regressor</td>\n",
       "      <td id=\"T_a0183_row18_col1\" class=\"data row18 col1\" >443004.1606</td>\n",
       "      <td id=\"T_a0183_row18_col2\" class=\"data row18 col2\" >659749161825.2474</td>\n",
       "      <td id=\"T_a0183_row18_col3\" class=\"data row18 col3\" >809485.5657</td>\n",
       "      <td id=\"T_a0183_row18_col4\" class=\"data row18 col4\" >-0.0010</td>\n",
       "      <td id=\"T_a0183_row18_col5\" class=\"data row18 col5\" >0.7358</td>\n",
       "      <td id=\"T_a0183_row18_col6\" class=\"data row18 col6\" >0.8306</td>\n",
       "      <td id=\"T_a0183_row18_col7\" class=\"data row18 col7\" >0.1890</td>\n",
       "    </tr>\n",
       "  </tbody>\n",
       "</table>\n"
      ],
      "text/plain": [
       "<pandas.io.formats.style.Styler at 0x265c7c24250>"
      ]
     },
     "metadata": {},
     "output_type": "display_data"
    },
    {
     "data": {
      "application/vnd.jupyter.widget-view+json": {
       "model_id": "",
       "version_major": 2,
       "version_minor": 0
      },
      "text/plain": [
       "Processing:   0%|          | 0/77 [00:00<?, ?it/s]"
      ]
     },
     "metadata": {},
     "output_type": "display_data"
    },
    {
     "data": {
      "text/html": [],
      "text/plain": [
       "<IPython.core.display.HTML object>"
      ]
     },
     "metadata": {},
     "output_type": "display_data"
    },
    {
     "data": {
      "text/html": [
       "<style type=\"text/css\">\n",
       "#T_46faa_row10_col0, #T_46faa_row10_col1, #T_46faa_row10_col2, #T_46faa_row10_col3, #T_46faa_row10_col4, #T_46faa_row10_col5 {\n",
       "  background: yellow;\n",
       "}\n",
       "</style>\n",
       "<table id=\"T_46faa\">\n",
       "  <thead>\n",
       "    <tr>\n",
       "      <th class=\"blank level0\" >&nbsp;</th>\n",
       "      <th id=\"T_46faa_level0_col0\" class=\"col_heading level0 col0\" >MAE</th>\n",
       "      <th id=\"T_46faa_level0_col1\" class=\"col_heading level0 col1\" >MSE</th>\n",
       "      <th id=\"T_46faa_level0_col2\" class=\"col_heading level0 col2\" >RMSE</th>\n",
       "      <th id=\"T_46faa_level0_col3\" class=\"col_heading level0 col3\" >R2</th>\n",
       "      <th id=\"T_46faa_level0_col4\" class=\"col_heading level0 col4\" >RMSLE</th>\n",
       "      <th id=\"T_46faa_level0_col5\" class=\"col_heading level0 col5\" >MAPE</th>\n",
       "    </tr>\n",
       "    <tr>\n",
       "      <th class=\"index_name level0\" >Fold</th>\n",
       "      <th class=\"blank col0\" >&nbsp;</th>\n",
       "      <th class=\"blank col1\" >&nbsp;</th>\n",
       "      <th class=\"blank col2\" >&nbsp;</th>\n",
       "      <th class=\"blank col3\" >&nbsp;</th>\n",
       "      <th class=\"blank col4\" >&nbsp;</th>\n",
       "      <th class=\"blank col5\" >&nbsp;</th>\n",
       "    </tr>\n",
       "  </thead>\n",
       "  <tbody>\n",
       "    <tr>\n",
       "      <th id=\"T_46faa_level0_row0\" class=\"row_heading level0 row0\" >0</th>\n",
       "      <td id=\"T_46faa_row0_col0\" class=\"data row0 col0\" >110782.3485</td>\n",
       "      <td id=\"T_46faa_row0_col1\" class=\"data row0 col1\" >79202096205.6265</td>\n",
       "      <td id=\"T_46faa_row0_col2\" class=\"data row0 col2\" >281428.6698</td>\n",
       "      <td id=\"T_46faa_row0_col3\" class=\"data row0 col3\" >0.9097</td>\n",
       "      <td id=\"T_46faa_row0_col4\" class=\"data row0 col4\" >0.1903</td>\n",
       "      <td id=\"T_46faa_row0_col5\" class=\"data row0 col5\" >0.1491</td>\n",
       "    </tr>\n",
       "    <tr>\n",
       "      <th id=\"T_46faa_level0_row1\" class=\"row_heading level0 row1\" >1</th>\n",
       "      <td id=\"T_46faa_row1_col0\" class=\"data row1 col0\" >92445.4277</td>\n",
       "      <td id=\"T_46faa_row1_col1\" class=\"data row1 col1\" >27125889466.4529</td>\n",
       "      <td id=\"T_46faa_row1_col2\" class=\"data row1 col2\" >164699.3912</td>\n",
       "      <td id=\"T_46faa_row1_col3\" class=\"data row1 col3\" >0.9601</td>\n",
       "      <td id=\"T_46faa_row1_col4\" class=\"data row1 col4\" >0.1748</td>\n",
       "      <td id=\"T_46faa_row1_col5\" class=\"data row1 col5\" >0.1375</td>\n",
       "    </tr>\n",
       "    <tr>\n",
       "      <th id=\"T_46faa_level0_row2\" class=\"row_heading level0 row2\" >2</th>\n",
       "      <td id=\"T_46faa_row2_col0\" class=\"data row2 col0\" >110047.7883</td>\n",
       "      <td id=\"T_46faa_row2_col1\" class=\"data row2 col1\" >51657499548.4663</td>\n",
       "      <td id=\"T_46faa_row2_col2\" class=\"data row2 col2\" >227282.8624</td>\n",
       "      <td id=\"T_46faa_row2_col3\" class=\"data row2 col3\" >0.9215</td>\n",
       "      <td id=\"T_46faa_row2_col4\" class=\"data row2 col4\" >0.2015</td>\n",
       "      <td id=\"T_46faa_row2_col5\" class=\"data row2 col5\" >0.1558</td>\n",
       "    </tr>\n",
       "    <tr>\n",
       "      <th id=\"T_46faa_level0_row3\" class=\"row_heading level0 row3\" >3</th>\n",
       "      <td id=\"T_46faa_row3_col0\" class=\"data row3 col0\" >97176.2479</td>\n",
       "      <td id=\"T_46faa_row3_col1\" class=\"data row3 col1\" >24571439782.3926</td>\n",
       "      <td id=\"T_46faa_row3_col2\" class=\"data row3 col2\" >156752.7983</td>\n",
       "      <td id=\"T_46faa_row3_col3\" class=\"data row3 col3\" >0.9627</td>\n",
       "      <td id=\"T_46faa_row3_col4\" class=\"data row3 col4\" >0.1870</td>\n",
       "      <td id=\"T_46faa_row3_col5\" class=\"data row3 col5\" >0.1499</td>\n",
       "    </tr>\n",
       "    <tr>\n",
       "      <th id=\"T_46faa_level0_row4\" class=\"row_heading level0 row4\" >4</th>\n",
       "      <td id=\"T_46faa_row4_col0\" class=\"data row4 col0\" >94588.4092</td>\n",
       "      <td id=\"T_46faa_row4_col1\" class=\"data row4 col1\" >26601340536.8017</td>\n",
       "      <td id=\"T_46faa_row4_col2\" class=\"data row4 col2\" >163099.1739</td>\n",
       "      <td id=\"T_46faa_row4_col3\" class=\"data row4 col3\" >0.9439</td>\n",
       "      <td id=\"T_46faa_row4_col4\" class=\"data row4 col4\" >0.1884</td>\n",
       "      <td id=\"T_46faa_row4_col5\" class=\"data row4 col5\" >0.1486</td>\n",
       "    </tr>\n",
       "    <tr>\n",
       "      <th id=\"T_46faa_level0_row5\" class=\"row_heading level0 row5\" >5</th>\n",
       "      <td id=\"T_46faa_row5_col0\" class=\"data row5 col0\" >97580.7670</td>\n",
       "      <td id=\"T_46faa_row5_col1\" class=\"data row5 col1\" >29181198617.0190</td>\n",
       "      <td id=\"T_46faa_row5_col2\" class=\"data row5 col2\" >170825.0527</td>\n",
       "      <td id=\"T_46faa_row5_col3\" class=\"data row5 col3\" >0.9458</td>\n",
       "      <td id=\"T_46faa_row5_col4\" class=\"data row5 col4\" >0.1942</td>\n",
       "      <td id=\"T_46faa_row5_col5\" class=\"data row5 col5\" >0.1528</td>\n",
       "    </tr>\n",
       "    <tr>\n",
       "      <th id=\"T_46faa_level0_row6\" class=\"row_heading level0 row6\" >6</th>\n",
       "      <td id=\"T_46faa_row6_col0\" class=\"data row6 col0\" >105436.7971</td>\n",
       "      <td id=\"T_46faa_row6_col1\" class=\"data row6 col1\" >51115521983.3476</td>\n",
       "      <td id=\"T_46faa_row6_col2\" class=\"data row6 col2\" >226087.4211</td>\n",
       "      <td id=\"T_46faa_row6_col3\" class=\"data row6 col3\" >0.9272</td>\n",
       "      <td id=\"T_46faa_row6_col4\" class=\"data row6 col4\" >0.1810</td>\n",
       "      <td id=\"T_46faa_row6_col5\" class=\"data row6 col5\" >0.1415</td>\n",
       "    </tr>\n",
       "    <tr>\n",
       "      <th id=\"T_46faa_level0_row7\" class=\"row_heading level0 row7\" >7</th>\n",
       "      <td id=\"T_46faa_row7_col0\" class=\"data row7 col0\" >106437.9946</td>\n",
       "      <td id=\"T_46faa_row7_col1\" class=\"data row7 col1\" >39254582305.0254</td>\n",
       "      <td id=\"T_46faa_row7_col2\" class=\"data row7 col2\" >198127.6919</td>\n",
       "      <td id=\"T_46faa_row7_col3\" class=\"data row7 col3\" >0.9374</td>\n",
       "      <td id=\"T_46faa_row7_col4\" class=\"data row7 col4\" >0.1974</td>\n",
       "      <td id=\"T_46faa_row7_col5\" class=\"data row7 col5\" >0.1529</td>\n",
       "    </tr>\n",
       "    <tr>\n",
       "      <th id=\"T_46faa_level0_row8\" class=\"row_heading level0 row8\" >8</th>\n",
       "      <td id=\"T_46faa_row8_col0\" class=\"data row8 col0\" >109460.5729</td>\n",
       "      <td id=\"T_46faa_row8_col1\" class=\"data row8 col1\" >41611647360.9843</td>\n",
       "      <td id=\"T_46faa_row8_col2\" class=\"data row8 col2\" >203989.3315</td>\n",
       "      <td id=\"T_46faa_row8_col3\" class=\"data row8 col3\" >0.9469</td>\n",
       "      <td id=\"T_46faa_row8_col4\" class=\"data row8 col4\" >0.1886</td>\n",
       "      <td id=\"T_46faa_row8_col5\" class=\"data row8 col5\" >0.1503</td>\n",
       "    </tr>\n",
       "    <tr>\n",
       "      <th id=\"T_46faa_level0_row9\" class=\"row_heading level0 row9\" >9</th>\n",
       "      <td id=\"T_46faa_row9_col0\" class=\"data row9 col0\" >102805.3546</td>\n",
       "      <td id=\"T_46faa_row9_col1\" class=\"data row9 col1\" >42148806981.5775</td>\n",
       "      <td id=\"T_46faa_row9_col2\" class=\"data row9 col2\" >205301.7462</td>\n",
       "      <td id=\"T_46faa_row9_col3\" class=\"data row9 col3\" >0.9288</td>\n",
       "      <td id=\"T_46faa_row9_col4\" class=\"data row9 col4\" >0.1864</td>\n",
       "      <td id=\"T_46faa_row9_col5\" class=\"data row9 col5\" >0.1432</td>\n",
       "    </tr>\n",
       "    <tr>\n",
       "      <th id=\"T_46faa_level0_row10\" class=\"row_heading level0 row10\" >Mean</th>\n",
       "      <td id=\"T_46faa_row10_col0\" class=\"data row10 col0\" >102676.1708</td>\n",
       "      <td id=\"T_46faa_row10_col1\" class=\"data row10 col1\" >41247002278.7694</td>\n",
       "      <td id=\"T_46faa_row10_col2\" class=\"data row10 col2\" >199759.4139</td>\n",
       "      <td id=\"T_46faa_row10_col3\" class=\"data row10 col3\" >0.9384</td>\n",
       "      <td id=\"T_46faa_row10_col4\" class=\"data row10 col4\" >0.1890</td>\n",
       "      <td id=\"T_46faa_row10_col5\" class=\"data row10 col5\" >0.1482</td>\n",
       "    </tr>\n",
       "    <tr>\n",
       "      <th id=\"T_46faa_level0_row11\" class=\"row_heading level0 row11\" >Std</th>\n",
       "      <td id=\"T_46faa_row11_col0\" class=\"data row11 col0\" >6435.5289</td>\n",
       "      <td id=\"T_46faa_row11_col1\" class=\"data row11 col1\" >15776027643.7420</td>\n",
       "      <td id=\"T_46faa_row11_col2\" class=\"data row11 col2\" >36649.4043</td>\n",
       "      <td id=\"T_46faa_row11_col3\" class=\"data row11 col3\" >0.0160</td>\n",
       "      <td id=\"T_46faa_row11_col4\" class=\"data row11 col4\" >0.0073</td>\n",
       "      <td id=\"T_46faa_row11_col5\" class=\"data row11 col5\" >0.0054</td>\n",
       "    </tr>\n",
       "  </tbody>\n",
       "</table>\n"
      ],
      "text/plain": [
       "<pandas.io.formats.style.Styler at 0x265c763c8e0>"
      ]
     },
     "metadata": {},
     "output_type": "display_data"
    },
    {
     "data": {
      "application/vnd.jupyter.widget-view+json": {
       "model_id": "",
       "version_major": 2,
       "version_minor": 0
      },
      "text/plain": [
       "Processing:   0%|          | 0/4 [00:00<?, ?it/s]"
      ]
     },
     "metadata": {},
     "output_type": "display_data"
    }
   ],
   "source": [
    "model = run()"
   ]
  },
  {
   "cell_type": "code",
   "execution_count": 8,
   "id": "10792c69-f48f-468c-94fa-90de9a478e54",
   "metadata": {
    "scrolled": true
   },
   "outputs": [
    {
     "data": {
      "text/html": [],
      "text/plain": [
       "<IPython.core.display.HTML object>"
      ]
     },
     "metadata": {},
     "output_type": "display_data"
    },
    {
     "data": {
      "text/html": [
       "<style type=\"text/css\">\n",
       "#T_bf92c_row10_col0, #T_bf92c_row10_col1, #T_bf92c_row10_col2, #T_bf92c_row10_col3, #T_bf92c_row10_col4, #T_bf92c_row10_col5 {\n",
       "  background: yellow;\n",
       "}\n",
       "</style>\n",
       "<table id=\"T_bf92c\">\n",
       "  <thead>\n",
       "    <tr>\n",
       "      <th class=\"blank level0\" >&nbsp;</th>\n",
       "      <th id=\"T_bf92c_level0_col0\" class=\"col_heading level0 col0\" >MAE</th>\n",
       "      <th id=\"T_bf92c_level0_col1\" class=\"col_heading level0 col1\" >MSE</th>\n",
       "      <th id=\"T_bf92c_level0_col2\" class=\"col_heading level0 col2\" >RMSE</th>\n",
       "      <th id=\"T_bf92c_level0_col3\" class=\"col_heading level0 col3\" >R2</th>\n",
       "      <th id=\"T_bf92c_level0_col4\" class=\"col_heading level0 col4\" >RMSLE</th>\n",
       "      <th id=\"T_bf92c_level0_col5\" class=\"col_heading level0 col5\" >MAPE</th>\n",
       "    </tr>\n",
       "    <tr>\n",
       "      <th class=\"index_name level0\" >Fold</th>\n",
       "      <th class=\"blank col0\" >&nbsp;</th>\n",
       "      <th class=\"blank col1\" >&nbsp;</th>\n",
       "      <th class=\"blank col2\" >&nbsp;</th>\n",
       "      <th class=\"blank col3\" >&nbsp;</th>\n",
       "      <th class=\"blank col4\" >&nbsp;</th>\n",
       "      <th class=\"blank col5\" >&nbsp;</th>\n",
       "    </tr>\n",
       "  </thead>\n",
       "  <tbody>\n",
       "    <tr>\n",
       "      <th id=\"T_bf92c_level0_row0\" class=\"row_heading level0 row0\" >0</th>\n",
       "      <td id=\"T_bf92c_row0_col0\" class=\"data row0 col0\" >110782.3485</td>\n",
       "      <td id=\"T_bf92c_row0_col1\" class=\"data row0 col1\" >79202096205.6265</td>\n",
       "      <td id=\"T_bf92c_row0_col2\" class=\"data row0 col2\" >281428.6698</td>\n",
       "      <td id=\"T_bf92c_row0_col3\" class=\"data row0 col3\" >0.9097</td>\n",
       "      <td id=\"T_bf92c_row0_col4\" class=\"data row0 col4\" >0.1903</td>\n",
       "      <td id=\"T_bf92c_row0_col5\" class=\"data row0 col5\" >0.1491</td>\n",
       "    </tr>\n",
       "    <tr>\n",
       "      <th id=\"T_bf92c_level0_row1\" class=\"row_heading level0 row1\" >1</th>\n",
       "      <td id=\"T_bf92c_row1_col0\" class=\"data row1 col0\" >92445.4277</td>\n",
       "      <td id=\"T_bf92c_row1_col1\" class=\"data row1 col1\" >27125889466.4529</td>\n",
       "      <td id=\"T_bf92c_row1_col2\" class=\"data row1 col2\" >164699.3912</td>\n",
       "      <td id=\"T_bf92c_row1_col3\" class=\"data row1 col3\" >0.9601</td>\n",
       "      <td id=\"T_bf92c_row1_col4\" class=\"data row1 col4\" >0.1748</td>\n",
       "      <td id=\"T_bf92c_row1_col5\" class=\"data row1 col5\" >0.1375</td>\n",
       "    </tr>\n",
       "    <tr>\n",
       "      <th id=\"T_bf92c_level0_row2\" class=\"row_heading level0 row2\" >2</th>\n",
       "      <td id=\"T_bf92c_row2_col0\" class=\"data row2 col0\" >110047.7883</td>\n",
       "      <td id=\"T_bf92c_row2_col1\" class=\"data row2 col1\" >51657499548.4663</td>\n",
       "      <td id=\"T_bf92c_row2_col2\" class=\"data row2 col2\" >227282.8624</td>\n",
       "      <td id=\"T_bf92c_row2_col3\" class=\"data row2 col3\" >0.9215</td>\n",
       "      <td id=\"T_bf92c_row2_col4\" class=\"data row2 col4\" >0.2015</td>\n",
       "      <td id=\"T_bf92c_row2_col5\" class=\"data row2 col5\" >0.1558</td>\n",
       "    </tr>\n",
       "    <tr>\n",
       "      <th id=\"T_bf92c_level0_row3\" class=\"row_heading level0 row3\" >3</th>\n",
       "      <td id=\"T_bf92c_row3_col0\" class=\"data row3 col0\" >97176.2479</td>\n",
       "      <td id=\"T_bf92c_row3_col1\" class=\"data row3 col1\" >24571439782.3926</td>\n",
       "      <td id=\"T_bf92c_row3_col2\" class=\"data row3 col2\" >156752.7983</td>\n",
       "      <td id=\"T_bf92c_row3_col3\" class=\"data row3 col3\" >0.9627</td>\n",
       "      <td id=\"T_bf92c_row3_col4\" class=\"data row3 col4\" >0.1870</td>\n",
       "      <td id=\"T_bf92c_row3_col5\" class=\"data row3 col5\" >0.1499</td>\n",
       "    </tr>\n",
       "    <tr>\n",
       "      <th id=\"T_bf92c_level0_row4\" class=\"row_heading level0 row4\" >4</th>\n",
       "      <td id=\"T_bf92c_row4_col0\" class=\"data row4 col0\" >94588.4092</td>\n",
       "      <td id=\"T_bf92c_row4_col1\" class=\"data row4 col1\" >26601340536.8017</td>\n",
       "      <td id=\"T_bf92c_row4_col2\" class=\"data row4 col2\" >163099.1739</td>\n",
       "      <td id=\"T_bf92c_row4_col3\" class=\"data row4 col3\" >0.9439</td>\n",
       "      <td id=\"T_bf92c_row4_col4\" class=\"data row4 col4\" >0.1884</td>\n",
       "      <td id=\"T_bf92c_row4_col5\" class=\"data row4 col5\" >0.1486</td>\n",
       "    </tr>\n",
       "    <tr>\n",
       "      <th id=\"T_bf92c_level0_row5\" class=\"row_heading level0 row5\" >5</th>\n",
       "      <td id=\"T_bf92c_row5_col0\" class=\"data row5 col0\" >97580.7670</td>\n",
       "      <td id=\"T_bf92c_row5_col1\" class=\"data row5 col1\" >29181198617.0190</td>\n",
       "      <td id=\"T_bf92c_row5_col2\" class=\"data row5 col2\" >170825.0527</td>\n",
       "      <td id=\"T_bf92c_row5_col3\" class=\"data row5 col3\" >0.9458</td>\n",
       "      <td id=\"T_bf92c_row5_col4\" class=\"data row5 col4\" >0.1942</td>\n",
       "      <td id=\"T_bf92c_row5_col5\" class=\"data row5 col5\" >0.1528</td>\n",
       "    </tr>\n",
       "    <tr>\n",
       "      <th id=\"T_bf92c_level0_row6\" class=\"row_heading level0 row6\" >6</th>\n",
       "      <td id=\"T_bf92c_row6_col0\" class=\"data row6 col0\" >105436.7971</td>\n",
       "      <td id=\"T_bf92c_row6_col1\" class=\"data row6 col1\" >51115521983.3476</td>\n",
       "      <td id=\"T_bf92c_row6_col2\" class=\"data row6 col2\" >226087.4211</td>\n",
       "      <td id=\"T_bf92c_row6_col3\" class=\"data row6 col3\" >0.9272</td>\n",
       "      <td id=\"T_bf92c_row6_col4\" class=\"data row6 col4\" >0.1810</td>\n",
       "      <td id=\"T_bf92c_row6_col5\" class=\"data row6 col5\" >0.1415</td>\n",
       "    </tr>\n",
       "    <tr>\n",
       "      <th id=\"T_bf92c_level0_row7\" class=\"row_heading level0 row7\" >7</th>\n",
       "      <td id=\"T_bf92c_row7_col0\" class=\"data row7 col0\" >106437.9946</td>\n",
       "      <td id=\"T_bf92c_row7_col1\" class=\"data row7 col1\" >39254582305.0254</td>\n",
       "      <td id=\"T_bf92c_row7_col2\" class=\"data row7 col2\" >198127.6919</td>\n",
       "      <td id=\"T_bf92c_row7_col3\" class=\"data row7 col3\" >0.9374</td>\n",
       "      <td id=\"T_bf92c_row7_col4\" class=\"data row7 col4\" >0.1974</td>\n",
       "      <td id=\"T_bf92c_row7_col5\" class=\"data row7 col5\" >0.1529</td>\n",
       "    </tr>\n",
       "    <tr>\n",
       "      <th id=\"T_bf92c_level0_row8\" class=\"row_heading level0 row8\" >8</th>\n",
       "      <td id=\"T_bf92c_row8_col0\" class=\"data row8 col0\" >109460.5729</td>\n",
       "      <td id=\"T_bf92c_row8_col1\" class=\"data row8 col1\" >41611647360.9843</td>\n",
       "      <td id=\"T_bf92c_row8_col2\" class=\"data row8 col2\" >203989.3315</td>\n",
       "      <td id=\"T_bf92c_row8_col3\" class=\"data row8 col3\" >0.9469</td>\n",
       "      <td id=\"T_bf92c_row8_col4\" class=\"data row8 col4\" >0.1886</td>\n",
       "      <td id=\"T_bf92c_row8_col5\" class=\"data row8 col5\" >0.1503</td>\n",
       "    </tr>\n",
       "    <tr>\n",
       "      <th id=\"T_bf92c_level0_row9\" class=\"row_heading level0 row9\" >9</th>\n",
       "      <td id=\"T_bf92c_row9_col0\" class=\"data row9 col0\" >102805.3546</td>\n",
       "      <td id=\"T_bf92c_row9_col1\" class=\"data row9 col1\" >42148806981.5775</td>\n",
       "      <td id=\"T_bf92c_row9_col2\" class=\"data row9 col2\" >205301.7462</td>\n",
       "      <td id=\"T_bf92c_row9_col3\" class=\"data row9 col3\" >0.9288</td>\n",
       "      <td id=\"T_bf92c_row9_col4\" class=\"data row9 col4\" >0.1864</td>\n",
       "      <td id=\"T_bf92c_row9_col5\" class=\"data row9 col5\" >0.1432</td>\n",
       "    </tr>\n",
       "    <tr>\n",
       "      <th id=\"T_bf92c_level0_row10\" class=\"row_heading level0 row10\" >Mean</th>\n",
       "      <td id=\"T_bf92c_row10_col0\" class=\"data row10 col0\" >102676.1708</td>\n",
       "      <td id=\"T_bf92c_row10_col1\" class=\"data row10 col1\" >41247002278.7694</td>\n",
       "      <td id=\"T_bf92c_row10_col2\" class=\"data row10 col2\" >199759.4139</td>\n",
       "      <td id=\"T_bf92c_row10_col3\" class=\"data row10 col3\" >0.9384</td>\n",
       "      <td id=\"T_bf92c_row10_col4\" class=\"data row10 col4\" >0.1890</td>\n",
       "      <td id=\"T_bf92c_row10_col5\" class=\"data row10 col5\" >0.1482</td>\n",
       "    </tr>\n",
       "    <tr>\n",
       "      <th id=\"T_bf92c_level0_row11\" class=\"row_heading level0 row11\" >Std</th>\n",
       "      <td id=\"T_bf92c_row11_col0\" class=\"data row11 col0\" >6435.5289</td>\n",
       "      <td id=\"T_bf92c_row11_col1\" class=\"data row11 col1\" >15776027643.7420</td>\n",
       "      <td id=\"T_bf92c_row11_col2\" class=\"data row11 col2\" >36649.4043</td>\n",
       "      <td id=\"T_bf92c_row11_col3\" class=\"data row11 col3\" >0.0160</td>\n",
       "      <td id=\"T_bf92c_row11_col4\" class=\"data row11 col4\" >0.0073</td>\n",
       "      <td id=\"T_bf92c_row11_col5\" class=\"data row11 col5\" >0.0054</td>\n",
       "    </tr>\n",
       "  </tbody>\n",
       "</table>\n"
      ],
      "text/plain": [
       "<pandas.io.formats.style.Styler at 0x265c72705e0>"
      ]
     },
     "metadata": {},
     "output_type": "display_data"
    },
    {
     "data": {
      "application/vnd.jupyter.widget-view+json": {
       "model_id": "",
       "version_major": 2,
       "version_minor": 0
      },
      "text/plain": [
       "Processing:   0%|          | 0/4 [00:00<?, ?it/s]"
      ]
     },
     "metadata": {},
     "output_type": "display_data"
    },
    {
     "name": "stdout",
     "output_type": "stream",
     "text": [
      "Pipeline(memory=Memory(location=C:\\Users\\Raghuram\\AppData\\Local\\Temp\\joblib),\n",
      "         steps=[('numerical_imputer',\n",
      "                 TransformerWrapper(include=['vehicle_age', 'km_driven',\n",
      "                                             'mileage', 'engine', 'max_power',\n",
      "                                             'seats', 'avg_car_price'],\n",
      "                                    transformer=SimpleImputer())),\n",
      "                ('categorical_imputer',\n",
      "                 TransformerWrapper(include=['brand', 'model', 'seller_type',\n",
      "                                             'fuel_type', 'transmissio...\n",
      "                 TransformerWrapper(include=['brand', 'model'],\n",
      "                                    transformer=LeaveOneOutEncoder(cols=['brand',\n",
      "                                                                         'model'],\n",
      "                                                                   handle_missing='return_nan',\n",
      "                                                                   random_state=123))),\n",
      "                ('low_variance',\n",
      "                 TransformerWrapper(exclude=[],\n",
      "                                    transformer=VarianceThreshold(threshold=0))),\n",
      "                ('normalize', TransformerWrapper(transformer=StandardScaler())),\n",
      "                ('actual_estimator',\n",
      "                 GradientBoostingRegressor(random_state=123))])\n"
     ]
    }
   ],
   "source": [
    "gbr = create_model('gbr')\n",
    "final_gbr = finalize_model(gbr)\n",
    "print(final_gbr)"
   ]
  },
  {
   "cell_type": "code",
   "execution_count": 14,
   "id": "a46da9b4",
   "metadata": {},
   "outputs": [],
   "source": [
    "import pickle"
   ]
  },
  {
   "cell_type": "code",
   "execution_count": 15,
   "id": "30ff4975-dccd-4a4f-916a-89a1778659e6",
   "metadata": {
    "scrolled": true
   },
   "outputs": [],
   "source": [
    "Final_GBR_Model = pickle.dumps(final_gbr)"
   ]
  },
  {
   "cell_type": "code",
   "execution_count": 16,
   "id": "5a02e41f-f8ef-4515-97b8-8157870ba811",
   "metadata": {},
   "outputs": [],
   "source": [
    "def preprocess_test_data(df):\n",
    "    df = df.drop(\"Unnamed: 0\",axis=1)\n",
    "    df = df.drop(\"car_name\",axis=1)\n",
    "    df['avg_car_price'] = (df['min_cost_price'] + df['max_cost_price'])/2\n",
    "    df.drop(columns= ['min_cost_price', 'max_cost_price'], inplace = True)\n",
    "    data = df\n",
    "    data = data[data['km_driven'] < 1000000]\n",
    "    data = data[data['mileage'] < 100]\n",
    "    data = data[data['engine'] < 6100]\n",
    "    data = data[data['max_power'] < 530]\n",
    "    data = data.reset_index(drop=True)\n",
    "    \n",
    "    return data"
   ]
  },
  {
   "cell_type": "code",
   "execution_count": 17,
   "id": "ea23b944-0ed1-43e1-87f2-0d88742c0044",
   "metadata": {},
   "outputs": [],
   "source": [
    "test = pd.read_csv(\"text_data.csv\")\n",
    "test_data = preprocess_test_data(test)"
   ]
  },
  {
   "cell_type": "code",
   "execution_count": 34,
   "id": "aa1afb14-e072-45fd-b23b-386145e1274c",
   "metadata": {},
   "outputs": [
    {
     "ename": "TypeError",
     "evalue": "load() takes exactly 1 positional argument (2 given)",
     "output_type": "error",
     "traceback": [
      "\u001b[1;31m---------------------------------------------------------------------------\u001b[0m",
      "\u001b[1;31mTypeError\u001b[0m                                 Traceback (most recent call last)",
      "Input \u001b[1;32mIn [34]\u001b[0m, in \u001b[0;36m<cell line: 4>\u001b[1;34m()\u001b[0m\n\u001b[0;32m      1\u001b[0m \u001b[38;5;28;01mimport\u001b[39;00m \u001b[38;5;21;01mpickle\u001b[39;00m\n\u001b[0;32m      3\u001b[0m \u001b[38;5;66;03m# Load the pickled model\u001b[39;00m\n\u001b[1;32m----> 4\u001b[0m GB \u001b[38;5;241m=\u001b[39m \u001b[43mpickle\u001b[49m\u001b[38;5;241;43m.\u001b[39;49m\u001b[43mload\u001b[49m\u001b[43m(\u001b[49m\u001b[38;5;124;43m'\u001b[39;49m\u001b[38;5;124;43mFinal_GBR_Model\u001b[39;49m\u001b[38;5;124;43m'\u001b[39;49m\u001b[43m,\u001b[49m\u001b[38;5;124;43m'\u001b[39;49m\u001b[38;5;124;43mrb\u001b[39;49m\u001b[38;5;124;43m'\u001b[39;49m\u001b[43m)\u001b[49m\n\u001b[0;32m      5\u001b[0m GBR \u001b[38;5;241m=\u001b[39m pickle\u001b[38;5;241m.\u001b[39mloads(Final_GBR_Model)\n",
      "\u001b[1;31mTypeError\u001b[0m: load() takes exactly 1 positional argument (2 given)"
     ]
    }
   ],
   "source": [
    "import pickle\n",
    "\n",
    "# Load the pickled model\n",
    "GB = pickle.load('Final_GBR_Model','rb')\n",
    "GBR = pickle.loads(Final_GBR_Model)"
   ]
  },
  {
   "cell_type": "code",
   "execution_count": 30,
   "id": "36a94480",
   "metadata": {},
   "outputs": [
    {
     "data": {
      "text/plain": [
       "array([217302.48958987, 486427.64946229, 539357.41644217])"
      ]
     },
     "execution_count": 30,
     "metadata": {},
     "output_type": "execute_result"
    }
   ],
   "source": [
    "GBR.predict(test_data)"
   ]
  },
  {
   "cell_type": "code",
   "execution_count": 21,
   "id": "536069c9",
   "metadata": {},
   "outputs": [],
   "source": [
    "pre = GBR.predict(test_data)"
   ]
  },
  {
   "cell_type": "code",
   "execution_count": 22,
   "id": "ff3cd02f",
   "metadata": {},
   "outputs": [
    {
     "data": {
      "text/plain": [
       "array([217302.48958987, 486427.64946229, 539357.41644217])"
      ]
     },
     "execution_count": 22,
     "metadata": {},
     "output_type": "execute_result"
    }
   ],
   "source": [
    "pre"
   ]
  },
  {
   "cell_type": "code",
   "execution_count": 19,
   "id": "d41bfaf9-2826-41b6-ad4a-82d59760ad03",
   "metadata": {},
   "outputs": [
    {
     "data": {
      "text/html": [],
      "text/plain": [
       "<IPython.core.display.HTML object>"
      ]
     },
     "metadata": {},
     "output_type": "display_data"
    }
   ],
   "source": [
    "unseen_predictions = predict_model(GBR, data=test_data)"
   ]
  },
  {
   "cell_type": "code",
   "execution_count": 20,
   "id": "f9f056ce-d0b0-46dc-b2ed-cb782be29ac0",
   "metadata": {},
   "outputs": [
    {
     "data": {
      "text/plain": [
       "0    217302.489590\n",
       "1    486427.649462\n",
       "2    539357.416442\n",
       "Name: Label, dtype: float64"
      ]
     },
     "execution_count": 20,
     "metadata": {},
     "output_type": "execute_result"
    }
   ],
   "source": [
    "unseen_predictions.Label"
   ]
  },
  {
   "cell_type": "code",
   "execution_count": 28,
   "id": "28a589aa-f322-4f91-b2dd-d3f30225990b",
   "metadata": {},
   "outputs": [],
   "source": [
    "pickle_in = open(\"Final_GBR_Model.pkl\",\"rb\")\n",
    "GBR=pickle.load(pickle_in)"
   ]
  },
  {
   "cell_type": "code",
   "execution_count": 24,
   "id": "665571e1",
   "metadata": {},
   "outputs": [
    {
     "data": {
      "text/plain": [
       "array(['vehicle_age', 'km_driven', 'mileage', 'engine', 'max_power',\n",
       "       'seats', 'avg_car_price'], dtype=object)"
      ]
     },
     "execution_count": 24,
     "metadata": {},
     "output_type": "execute_result"
    }
   ],
   "source": [
    "GBR.p"
   ]
  },
  {
   "cell_type": "code",
   "execution_count": 36,
   "id": "89bc05c5",
   "metadata": {},
   "outputs": [],
   "source": [
    "import sklearn.externals\n",
    "import joblib"
   ]
  },
  {
   "cell_type": "code",
   "execution_count": 37,
   "id": "cbbbfef0",
   "metadata": {},
   "outputs": [
    {
     "data": {
      "text/plain": [
       "['mymodel.pkl']"
      ]
     },
     "execution_count": 37,
     "metadata": {},
     "output_type": "execute_result"
    }
   ],
   "source": [
    "joblib.dump(final_gbr,'mymodel.pkl')"
   ]
  },
  {
   "cell_type": "code",
   "execution_count": 38,
   "id": "e2cc7d73",
   "metadata": {},
   "outputs": [],
   "source": [
    "model = joblib.load('mymodel.pkl')"
   ]
  },
  {
   "cell_type": "code",
   "execution_count": null,
   "id": "0300044e",
   "metadata": {},
   "outputs": [],
   "source": [
    "model.p"
   ]
  }
 ],
 "metadata": {
  "kernelspec": {
   "display_name": "Python 3 (ipykernel)",
   "language": "python",
   "name": "python3"
  },
  "language_info": {
   "codemirror_mode": {
    "name": "ipython",
    "version": 3
   },
   "file_extension": ".py",
   "mimetype": "text/x-python",
   "name": "python",
   "nbconvert_exporter": "python",
   "pygments_lexer": "ipython3",
   "version": "3.9.12"
  }
 },
 "nbformat": 4,
 "nbformat_minor": 5
}
